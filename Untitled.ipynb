{
 "cells": [
  {
   "cell_type": "code",
   "execution_count": 5,
   "metadata": {},
   "outputs": [
    {
     "name": "stdout",
     "output_type": "stream",
     "text": [
      "128 44\n"
     ]
    },
    {
     "name": "stderr",
     "output_type": "stream",
     "text": [
      "/Users/albert/anaconda3/lib/python3.8/site-packages/librosa/core/audio.py:162: UserWarning: PySoundFile failed. Trying audioread instead.\n",
      "  warnings.warn(\"PySoundFile failed. Trying audioread instead.\")\n"
     ]
    }
   ],
   "source": [
    "import librosa\n",
    "import numpy as np\n",
    "import os\n",
    "\n",
    "\n",
    "path_slices = \"audio_files/class_0/Test/seconds_1_overlap_0.5/\"\n",
    "\n",
    "k = 0\n",
    "for slice in os.listdir(path_slices):\n",
    "    if \"mp3\" in slice:\n",
    "        audio, sr = librosa.load(path_slices + slice)\n",
    "        spectrogram = librosa.feature.melspectrogram(y=audio, sr=sr)\n",
    "        spectrogram_db = librosa.amplitude_to_db(spectrogram, ref=np.max)\n",
    "        width = spectrogram_db.shape[1]\n",
    "        height = spectrogram_db.shape[0]\n",
    "        k +=1\n",
    "        print (height, width)\n",
    "    if k > 0:\n",
    "        break\n",
    "    print (height, width)\n",
    "\n",
    " # loads and prints the shape of the data array\n",
    "#data = np.loadtxt(f\"data/seconds_0.5_overlap_0/data_Test.txt\")\n",
    "#data = data.reshape(-1, height, width)\n",
    "#print(f\"The shape of your data is {data.shape}.\")"
   ]
  },
  {
   "cell_type": "code",
   "execution_count": 2,
   "metadata": {},
   "outputs": [
    {
     "data": {
      "text/plain": [
       "(4410,)"
      ]
     },
     "execution_count": 2,
     "metadata": {},
     "output_type": "execute_result"
    }
   ],
   "source": [
    "import librosa\n",
    "\n",
    "wav_file, sr = librosa.load(\"audio_files/class_0/Test/seconds_0.2_overlap_0/wav/speech_test_1_slice_0.0.wav\")\n",
    "\n",
    "wav_file.shape"
   ]
  },
  {
   "cell_type": "code",
   "execution_count": 3,
   "metadata": {},
   "outputs": [
    {
     "data": {
      "text/plain": [
       "array([ 0.        ,  0.        ,  0.        , ..., -0.00659891,\n",
       "        0.00279888,  0.00950949], dtype=float32)"
      ]
     },
     "execution_count": 3,
     "metadata": {},
     "output_type": "execute_result"
    }
   ],
   "source": [
    "wav_file"
   ]
  }
 ],
 "metadata": {
  "kernelspec": {
   "display_name": "Python 3",
   "language": "python",
   "name": "python3"
  },
  "language_info": {
   "codemirror_mode": {
    "name": "ipython",
    "version": 3
   },
   "file_extension": ".py",
   "mimetype": "text/x-python",
   "name": "python",
   "nbconvert_exporter": "python",
   "pygments_lexer": "ipython3",
   "version": "3.8.3"
  }
 },
 "nbformat": 4,
 "nbformat_minor": 4
}
