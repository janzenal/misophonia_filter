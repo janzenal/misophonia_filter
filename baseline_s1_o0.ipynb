{
 "cells": [
  {
   "cell_type": "code",
   "execution_count": 1,
   "metadata": {},
   "outputs": [],
   "source": [
    "import numpy as np\n",
    "from matplotlib import pyplot as plt"
   ]
  },
  {
   "cell_type": "code",
   "execution_count": 16,
   "metadata": {},
   "outputs": [],
   "source": [
    "# load the data\n",
    "\n",
    "X_train = np.loadtxt(\"data/seconds_1_overlap_0/data_Train.txt\")\n",
    "y_train = np.loadtxt(\"labels/seconds_1_overlap_0/labels_Train.txt\")\n",
    "\n",
    "X_val = np.loadtxt(\"data/seconds_1_overlap_0/data_Validation.txt\")\n",
    "y_val = np.loadtxt(\"labels/seconds_1_overlap_0/labels_Validation.txt\")\n",
    "\n",
    "X_test = np.loadtxt(\"data/seconds_1_overlap_0/data_Test.txt\")\n",
    "y_test = np.loadtxt(\"labels/seconds_1_overlap_0/labels_Test.txt\")"
   ]
  },
  {
   "cell_type": "code",
   "execution_count": 3,
   "metadata": {},
   "outputs": [],
   "source": [
    "y_test = np.loadtxt(\"labels/seconds_1_overlap_0/labels_Test.txt\")"
   ]
  },
  {
   "cell_type": "code",
   "execution_count": 20,
   "metadata": {},
   "outputs": [],
   "source": [
    "def convert_to_tuple(arr):\n",
    "    zeros = np.zeros(arr.shape)\n",
    "    \n",
    "    tuples = np.array(list(zip(arr, np.zeros(zeros.shape))))\n",
    "    \n",
    "    mask = (tuples[:,0] == 0)\n",
    "    \n",
    "    tuples[mask, 1] = 1\n",
    "    \n",
    "    return tuples\n",
    "\n",
    "y_val = convert_to_tuple(y_val)\n",
    "y_test = convert_to_tuple(y_test)\n",
    "y_train = convert_to_tuple(y_train)"
   ]
  },
  {
   "cell_type": "code",
   "execution_count": null,
   "metadata": {},
   "outputs": [],
   "source": [
    "y_test = np.array(list(zip(y_test, np.zeros(y_test.shape))))\n",
    "\n",
    "mask = (y_test[:,0] == 0)\n",
    "\n",
    "y_test[mask,1] = 1"
   ]
  },
  {
   "cell_type": "code",
   "execution_count": 14,
   "metadata": {},
   "outputs": [
    {
     "data": {
      "text/plain": [
       "array([[[0., 1.],\n",
       "        [0., 1.]],\n",
       "\n",
       "       [[0., 1.],\n",
       "        [0., 1.]],\n",
       "\n",
       "       [[0., 1.],\n",
       "        [0., 1.]],\n",
       "\n",
       "       ...,\n",
       "\n",
       "       [[1., 0.],\n",
       "        [0., 1.]],\n",
       "\n",
       "       [[1., 0.],\n",
       "        [0., 1.]],\n",
       "\n",
       "       [[1., 0.],\n",
       "        [0., 1.]]])"
      ]
     },
     "execution_count": 14,
     "metadata": {},
     "output_type": "execute_result"
    }
   ],
   "source": [
    "y_test"
   ]
  },
  {
   "cell_type": "code",
   "execution_count": null,
   "metadata": {},
   "outputs": [],
   "source": [
    "print(X_train.shape)\n",
    "print(X_val.shape)\n",
    "print(X_test.shape)\n",
    "\n",
    "width = X_train.shape[1]"
   ]
  },
  {
   "cell_type": "code",
   "execution_count": null,
   "metadata": {},
   "outputs": [],
   "source": [
    "X_train = X_train.reshape((-1, 128, width))\n",
    "X_val = X_val.reshape((-1, 128, width))\n",
    "X_test = X_test.reshape((-1, 128, width))\n",
    "\n",
    "print(X_train.shape)\n",
    "print(X_val.shape)\n",
    "print(X_test.shape)"
   ]
  },
  {
   "cell_type": "code",
   "execution_count": null,
   "metadata": {},
   "outputs": [],
   "source": [
    "print(y_train.shape)\n",
    "print(y_val.shape)\n",
    "print(y_test.shape)"
   ]
  },
  {
   "cell_type": "code",
   "execution_count": null,
   "metadata": {},
   "outputs": [],
   "source": [
    "index = 16000\n",
    "\n",
    "plt.imshow(X_train[index], cmap =\"gray\")\n",
    "plt.title(f\"Label is {y_train[index]}\")\n",
    "plt.show()"
   ]
  },
  {
   "cell_type": "code",
   "execution_count": null,
   "metadata": {},
   "outputs": [],
   "source": [
    "# resizing images\n",
    "\n",
    "#data_padded = [data[i] for i in range(0, data.shape[0])]\n",
    "\n",
    "#n_samples = data.shape[0]\n",
    "#height = data.shape[1]\n",
    "#width = data.shape[2]\n",
    "\n",
    "\n",
    "#for i in range(0, n_samples):\n",
    "#    for j in range(width, height):\n",
    "#        data_padded[i] = np.append(data_padded[i], [[0] for k in range(0, height)], 1)\n",
    "    \n",
    "#data_padded = np.array(data_padded)\n",
    "#data_padded.shape\n",
    "#data = data_padded"
   ]
  },
  {
   "cell_type": "code",
   "execution_count": 21,
   "metadata": {},
   "outputs": [],
   "source": [
    "X_train = X_train.reshape((-1, 128, 44, 1))\n",
    "X_val = X_val.reshape((-1, 128, 44, 1))\n",
    "X_test = X_test.reshape((-1, 128, 44, 1))"
   ]
  },
  {
   "cell_type": "code",
   "execution_count": null,
   "metadata": {},
   "outputs": [],
   "source": [
    "# train test split\n",
    "#from sklearn.model_selection import train_test_split\n",
    "\n",
    "#X_train, X_test, y_train, y_test = train_test_split(data, labels, test_size=0.2, shuffle=True)"
   ]
  },
  {
   "cell_type": "code",
   "execution_count": 22,
   "metadata": {},
   "outputs": [
    {
     "data": {
      "text/plain": [
       "(array([[11032.,     0.,     0.,     0.,     0.,     0.,     0.,     0.,\n",
       "             0., 12245.],\n",
       "        [12245.,     0.,     0.,     0.,     0.,     0.,     0.,     0.,\n",
       "             0., 11032.]]),\n",
       " array([0. , 0.1, 0.2, 0.3, 0.4, 0.5, 0.6, 0.7, 0.8, 0.9, 1. ]),\n",
       " <a list of 2 Lists of Patches objects>)"
      ]
     },
     "execution_count": 22,
     "metadata": {},
     "output_type": "execute_result"
    },
    {
     "data": {
      "image/png": "[encoded data removed]",
      "text/plain": [
       "<Figure size 432x288 with 1 Axes>"
      ]
     },
     "metadata": {
      "needs_background": "light"
     },
     "output_type": "display_data"
    }
   ],
   "source": [
    "from matplotlib import pyplot as plt\n",
    "\n",
    "plt.hist(y_train)"
   ]
  },
  {
   "cell_type": "code",
   "execution_count": 23,
   "metadata": {},
   "outputs": [
    {
     "name": "stdout",
     "output_type": "stream",
     "text": [
      "Model: \"sequential\"\n",
      "_________________________________________________________________\n",
      "Layer (type)                 Output Shape              Param #   \n",
      "=================================================================\n",
      "conv2d (Conv2D)              (None, 125, 41, 32)       544       \n",
      "_________________________________________________________________\n",
      "dropout (Dropout)            (None, 125, 41, 32)       0         \n",
      "_________________________________________________________________\n",
      "flatten (Flatten)            (None, 164000)            0         \n",
      "_________________________________________________________________\n",
      "dense (Dense)                (None, 2)                 328002    \n",
      "=================================================================\n",
      "Total params: 328,546\n",
      "Trainable params: 328,546\n",
      "Non-trainable params: 0\n",
      "_________________________________________________________________\n"
     ]
    }
   ],
   "source": [
    "from tensorflow.keras import models, layers\n",
    "\n",
    "model = models.Sequential()\n",
    "model.add(layers.Conv2D(32, (4, 4),\n",
    "                        strides=1,\n",
    "                        activation=\"relu\",\n",
    "                        input_shape=(128, 44, 1)))\n",
    "model.add(layers.Dropout(0.2))\n",
    "model.add(layers.Flatten())\n",
    "model.add(layers.Dense(2, activation=\"softmax\"))\n",
    "\n",
    "\n",
    "model.summary()\n",
    "\n",
    "model.compile(\n",
    "    optimizer=\"rmsprop\",\n",
    "    loss=\"binary_crossentropy\",\n",
    "    metrics=\"accuracy\"\n",
    ")"
   ]
  },
  {
   "cell_type": "code",
   "execution_count": 24,
   "metadata": {},
   "outputs": [],
   "source": [
    "# normalize\n",
    "\n",
    "X_train = X_train.astype(\"float32\")/255.0\n",
    "X_test = X_test.astype(\"float32\")/255.0"
   ]
  },
  {
   "cell_type": "code",
   "execution_count": null,
   "metadata": {},
   "outputs": [],
   "source": [
    "#from tensorflow.keras.utils import to_categorical\n",
    "\n",
    "#y_train = to_categorical(y_train)\n",
    "#y_test = to_categorical(y_test)"
   ]
  },
  {
   "cell_type": "code",
   "execution_count": null,
   "metadata": {},
   "outputs": [],
   "source": [
    "y_train\n",
    "\n",
    "np.zeros(y_train.shape)"
   ]
  },
  {
   "cell_type": "code",
   "execution_count": 25,
   "metadata": {},
   "outputs": [
    {
     "name": "stdout",
     "output_type": "stream",
     "text": [
      "Epoch 1/10\n",
      "182/182 [==============================] - 41s 225ms/step - loss: 0.3708 - accuracy: 0.8913 - val_loss: 3.1128 - val_accuracy: 0.7946\n",
      "Epoch 2/10\n",
      "182/182 [==============================] - 41s 227ms/step - loss: 0.0848 - accuracy: 0.9707 - val_loss: 5.6873 - val_accuracy: 0.6280\n",
      "Epoch 3/10\n",
      "182/182 [==============================] - 41s 225ms/step - loss: 0.0795 - accuracy: 0.9710 - val_loss: 0.7825 - val_accuracy: 0.9485\n",
      "Epoch 4/10\n",
      "182/182 [==============================] - 41s 224ms/step - loss: 0.0589 - accuracy: 0.9784 - val_loss: 0.9201 - val_accuracy: 0.9388\n",
      "Epoch 5/10\n",
      "182/182 [==============================] - 41s 225ms/step - loss: 0.0468 - accuracy: 0.9831 - val_loss: 0.6372 - val_accuracy: 0.9579\n",
      "Epoch 6/10\n",
      "182/182 [==============================] - 40s 222ms/step - loss: 0.0420 - accuracy: 0.9852 - val_loss: 0.8778 - val_accuracy: 0.9424\n",
      "Epoch 7/10\n",
      "182/182 [==============================] - 41s 223ms/step - loss: 0.0375 - accuracy: 0.9872 - val_loss: 2.3131 - val_accuracy: 0.8479\n",
      "Epoch 8/10\n",
      "182/182 [==============================] - 40s 221ms/step - loss: 0.0349 - accuracy: 0.9878 - val_loss: 0.8348 - val_accuracy: 0.9454\n",
      "Epoch 9/10\n",
      "182/182 [==============================] - 40s 218ms/step - loss: 0.0292 - accuracy: 0.9896 - val_loss: 0.5344 - val_accuracy: 0.9646\n",
      "Epoch 10/10\n",
      "182/182 [==============================] - 40s 221ms/step - loss: 0.0303 - accuracy: 0.9896 - val_loss: 0.6108 - val_accuracy: 0.9599\n"
     ]
    }
   ],
   "source": [
    "history = model.fit(\n",
    "    X_train, y_train,\n",
    "    epochs=10,\n",
    "    batch_size=128,\n",
    "    validation_data=(X_val, y_val),\n",
    ")"
   ]
  },
  {
   "cell_type": "code",
   "execution_count": 26,
   "metadata": {},
   "outputs": [
    {
     "data": {
      "image/png": "[encoded data removed]",
      "text/plain": [
       "<Figure size 432x288 with 1 Axes>"
      ]
     },
     "metadata": {
      "needs_background": "light"
     },
     "output_type": "display_data"
    },
    {
     "data": {
      "image/png": "[encoded data removed]",
      "text/plain": [
       "<Figure size 432x288 with 1 Axes>"
      ]
     },
     "metadata": {
      "needs_background": "light"
     },
     "output_type": "display_data"
    }
   ],
   "source": [
    "plt.plot(history.history[\"loss\"], label=\"loss\")\n",
    "plt.plot(history.history[\"val_loss\"], label=\"val_loss\")\n",
    "plt.legend()\n",
    "plt.show()\n",
    "plt.close()\n",
    "\n",
    "plt.plot(history.history[\"accuracy\"], label=\"accuracy\")\n",
    "plt.plot(history.history[\"val_accuracy\"], label=\"val_accuracy\")\n",
    "plt.legend()\n",
    "plt.show()\n",
    "plt.close()"
   ]
  },
  {
   "cell_type": "code",
   "execution_count": 40,
   "metadata": {},
   "outputs": [],
   "source": [
    "test_audio = np.loadtxt(\"data/for_prediction/Olaf_Schubert/seconds_1_overlap_0/Olaf_Schubert_1/data.txt\")"
   ]
  },
  {
   "cell_type": "code",
   "execution_count": 29,
   "metadata": {},
   "outputs": [],
   "source": [
    "model.save('first_model_softmax.h5')"
   ]
  },
  {
   "cell_type": "code",
   "execution_count": 41,
   "metadata": {},
   "outputs": [],
   "source": [
    "test_audio = test_audio.reshape((-1, 128, 44, 1))"
   ]
  },
  {
   "cell_type": "code",
   "execution_count": 31,
   "metadata": {},
   "outputs": [],
   "source": [
    "predictions = model.predict(\n",
    "    np.array(test_audio)\n",
    ")"
   ]
  },
  {
   "cell_type": "code",
   "execution_count": null,
   "metadata": {},
   "outputs": [],
   "source": [
    "sum(predictions == 0)"
   ]
  },
  {
   "cell_type": "code",
   "execution_count": null,
   "metadata": {},
   "outputs": [],
   "source": [
    "model.save('first_model.h5')"
   ]
  },
  {
   "cell_type": "code",
   "execution_count": null,
   "metadata": {},
   "outputs": [],
   "source": [
    "# load the model from disk\n",
    "from tensorflow.keras.models import load_model\n",
    "loaded_model = load_model('first_model.h5')"
   ]
  },
  {
   "cell_type": "code",
   "execution_count": 50,
   "metadata": {},
   "outputs": [
    {
     "data": {
      "text/plain": [
       "(1036, 128, 44, 1)"
      ]
     },
     "execution_count": 50,
     "metadata": {},
     "output_type": "execute_result"
    }
   ],
   "source": [
    "test_audio.shape"
   ]
  },
  {
   "cell_type": "code",
   "execution_count": 51,
   "metadata": {},
   "outputs": [],
   "source": [
    "preds = model.predict(np.array(test_audio))"
   ]
  },
  {
   "cell_type": "code",
   "execution_count": 52,
   "metadata": {},
   "outputs": [
    {
     "data": {
      "text/plain": [
       "array([[0., 1.],\n",
       "       [0., 1.],\n",
       "       [0., 1.],\n",
       "       ...,\n",
       "       [0., 1.],\n",
       "       [0., 1.],\n",
       "       [0., 1.]], dtype=float32)"
      ]
     },
     "execution_count": 52,
     "metadata": {},
     "output_type": "execute_result"
    }
   ],
   "source": [
    "preds"
   ]
  },
  {
   "cell_type": "code",
   "execution_count": 61,
   "metadata": {},
   "outputs": [
    {
     "data": {
      "text/plain": [
       "array([[9.9999988e-01, 7.4021436e-08]], dtype=float32)"
      ]
     },
     "execution_count": 61,
     "metadata": {},
     "output_type": "execute_result"
    }
   ],
   "source": [
    "mask = (preds[:,0] != 0)\n",
    "preds[mask]"
   ]
  },
  {
   "cell_type": "code",
   "execution_count": 64,
   "metadata": {},
   "outputs": [
    {
     "data": {
      "text/plain": [
       "123"
      ]
     },
     "execution_count": 64,
     "metadata": {},
     "output_type": "execute_result"
    }
   ],
   "source": [
    "np.argmax(preds[:,0])"
   ]
  },
  {
   "cell_type": "code",
   "execution_count": 67,
   "metadata": {},
   "outputs": [
    {
     "data": {
      "text/plain": [
       "array([[0.0000000e+00, 1.0000000e+00],\n",
       "       [0.0000000e+00, 1.0000000e+00],\n",
       "       [0.0000000e+00, 1.0000000e+00],\n",
       "       [9.9999988e-01, 7.4021436e-08],\n",
       "       [0.0000000e+00, 1.0000000e+00],\n",
       "       [0.0000000e+00, 1.0000000e+00]], dtype=float32)"
      ]
     },
     "execution_count": 67,
     "metadata": {},
     "output_type": "execute_result"
    }
   ],
   "source": [
    "preds[120:126]"
   ]
  },
  {
   "cell_type": "code",
   "execution_count": null,
   "metadata": {},
   "outputs": [],
   "source": []
  }
 ],
 "metadata": {
  "kernelspec": {
   "display_name": "Python 3",
   "language": "python",
   "name": "python3"
  },
  "language_info": {
   "codemirror_mode": {
    "name": "ipython",
    "version": 3
   },
   "file_extension": ".py",
   "mimetype": "text/x-python",
   "name": "python",
   "nbconvert_exporter": "python",
   "pygments_lexer": "ipython3",
   "version": "3.8.3"
  }
 },
 "nbformat": 4,
 "nbformat_minor": 4
}
