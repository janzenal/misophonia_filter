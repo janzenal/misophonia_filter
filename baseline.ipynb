{
 "cells": [
  {
   "cell_type": "code",
   "execution_count": 1,
   "metadata": {},
   "outputs": [],
   "source": [
    "import numpy as np\n",
    "from matplotlib import pyplot as plt\n",
    "from tensorflow.keras.preprocessing.image import ImageDataGenerator"
   ]
  },
  {
   "cell_type": "code",
   "execution_count": 2,
   "metadata": {},
   "outputs": [],
   "source": [
    "# create a data generator\n",
    "datagen = ImageDataGenerator(rescale=1./255)"
   ]
  },
  {
   "cell_type": "code",
   "execution_count": 3,
   "metadata": {},
   "outputs": [
    {
     "name": "stdout",
     "output_type": "stream",
     "text": [
      "Found 222032 images belonging to 2 classes.\n",
      "Found 27687 images belonging to 2 classes.\n",
      "Found 27835 images belonging to 2 classes.\n"
     ]
    }
   ],
   "source": [
    "# load and iterate training dataset\n",
    "train = datagen.flow_from_directory('mel_spectrograms/Train', class_mode='binary', color_mode=\"grayscale\", target_size=(9, 128), batch_size=32)\n",
    "\n",
    "# load and iterate validation dataset\n",
    "val = datagen.flow_from_directory('mel_spectrograms/Validation', class_mode='binary', color_mode=\"grayscale\", target_size=(9, 128), batch_size=32)\n",
    "\n",
    "# load and iterate test dataset\n",
    "test = datagen.flow_from_directory('mel_spectrograms/Test', class_mode='binary', color_mode=\"grayscale\", target_size=(9, 128), batch_size=32)"
   ]
  },
  {
   "cell_type": "code",
   "execution_count": 10,
   "metadata": {},
   "outputs": [
    {
     "name": "stdout",
     "output_type": "stream",
     "text": [
      "Model: \"sequential_1\"\n",
      "_________________________________________________________________\n",
      "Layer (type)                 Output Shape              Param #   \n",
      "=================================================================\n",
      "conv2d_1 (Conv2D)            (None, 6, 125, 32)        544       \n",
      "_________________________________________________________________\n",
      "flatten_1 (Flatten)          (None, 24000)             0         \n",
      "_________________________________________________________________\n",
      "dense_1 (Dense)              (None, 1)                 24001     \n",
      "=================================================================\n",
      "Total params: 24,545\n",
      "Trainable params: 24,545\n",
      "Non-trainable params: 0\n",
      "_________________________________________________________________\n"
     ]
    }
   ],
   "source": [
    "from tensorflow.keras import models, layers\n",
    "\n",
    "model = models.Sequential()\n",
    "model.add(layers.Conv2D(32, (4, 4),\n",
    "                        strides=1,\n",
    "                        activation=\"relu\",\n",
    "                        input_shape=(9, 128, 1)))\n",
    "#model.add(layers.Dropout(0.2))\n",
    "model.add(layers.Flatten())\n",
    "model.add(layers.Dense(1, activation=\"sigmoid\"))\n",
    "\n",
    "\n",
    "model.summary()\n",
    "\n",
    "model.compile(\n",
    "    optimizer=\"rmsprop\",\n",
    "    loss=\"binary_crossentropy\",\n",
    "    metrics=\"accuracy\"\n",
    ")"
   ]
  },
  {
   "cell_type": "code",
   "execution_count": 11,
   "metadata": {},
   "outputs": [
    {
     "name": "stdout",
     "output_type": "stream",
     "text": [
      "Epoch 1/10\n",
      "1024/1024 [==============================] - 15s 15ms/step - loss: 0.4125 - accuracy: 0.8243 - val_loss: 0.4835 - val_accuracy: 0.7589\n",
      "Epoch 2/10\n",
      "1024/1024 [==============================] - 14s 14ms/step - loss: 0.3713 - accuracy: 0.8413 - val_loss: 0.5608 - val_accuracy: 0.7456\n",
      "Epoch 3/10\n",
      "1024/1024 [==============================] - 15s 15ms/step - loss: 0.3588 - accuracy: 0.8463 - val_loss: 0.6071 - val_accuracy: 0.7594\n",
      "Epoch 4/10\n",
      "1024/1024 [==============================] - 13s 13ms/step - loss: 0.3404 - accuracy: 0.8568 - val_loss: 0.6297 - val_accuracy: 0.7580\n",
      "Epoch 5/10\n",
      "1024/1024 [==============================] - 14s 14ms/step - loss: 0.3456 - accuracy: 0.8535 - val_loss: 0.6692 - val_accuracy: 0.7503\n",
      "Epoch 6/10\n",
      "1024/1024 [==============================] - 14s 14ms/step - loss: 0.3440 - accuracy: 0.8554 - val_loss: 0.7296 - val_accuracy: 0.7322\n",
      "Epoch 7/10\n",
      "1024/1024 [==============================] - 14s 13ms/step - loss: 0.3398 - accuracy: 0.8581 - val_loss: 0.6854 - val_accuracy: 0.7481\n",
      "Epoch 8/10\n",
      "1024/1024 [==============================] - 14s 14ms/step - loss: 0.3311 - accuracy: 0.8617 - val_loss: 0.6812 - val_accuracy: 0.7353\n",
      "Epoch 9/10\n",
      "1024/1024 [==============================] - 13s 13ms/step - loss: 0.3365 - accuracy: 0.8590 - val_loss: 0.6547 - val_accuracy: 0.7527\n",
      "Epoch 10/10\n",
      "1024/1024 [==============================] - 16s 15ms/step - loss: 0.3401 - accuracy: 0.8578 - val_loss: 0.7103 - val_accuracy: 0.7448\n"
     ]
    }
   ],
   "source": [
    "history = model.fit(\n",
    "    train,\n",
    "    steps_per_epoch=1024,\n",
    "    epochs=10,\n",
    "    validation_data=val,\n",
    "    validation_steps=200\n",
    ")"
   ]
  },
  {
   "cell_type": "code",
   "execution_count": 6,
   "metadata": {},
   "outputs": [
    {
     "data": {
      "image/png": "[encoded data removed]",
      "text/plain": [
       "<Figure size 432x288 with 1 Axes>"
      ]
     },
     "metadata": {
      "needs_background": "light"
     },
     "output_type": "display_data"
    },
    {
     "data": {
      "image/png": "[encoded data removed]",
      "text/plain": [
       "<Figure size 432x288 with 1 Axes>"
      ]
     },
     "metadata": {
      "needs_background": "light"
     },
     "output_type": "display_data"
    }
   ],
   "source": [
    "plt.plot(history.history[\"loss\"], label=\"loss\")\n",
    "plt.plot(history.history[\"val_loss\"], label=\"val_loss\")\n",
    "plt.legend()\n",
    "plt.show()\n",
    "plt.close()\n",
    "\n",
    "plt.plot(history.history[\"accuracy\"], label=\"accuracy\")\n",
    "plt.plot(history.history[\"val_accuracy\"], label=\"val_accuracy\")\n",
    "plt.legend()\n",
    "plt.show()\n",
    "plt.close()"
   ]
  },
  {
   "cell_type": "code",
   "execution_count": null,
   "metadata": {},
   "outputs": [],
   "source": []
  }
 ],
 "metadata": {
  "kernelspec": {
   "display_name": "Python 3",
   "language": "python",
   "name": "python3"
  },
  "language_info": {
   "codemirror_mode": {
    "name": "ipython",
    "version": 3
   },
   "file_extension": ".py",
   "mimetype": "text/x-python",
   "name": "python",
   "nbconvert_exporter": "python",
   "pygments_lexer": "ipython3",
   "version": "3.8.3"
  }
 },
 "nbformat": 4,
 "nbformat_minor": 4
}
