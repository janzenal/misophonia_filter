{
 "cells": [
  {
   "cell_type": "code",
   "execution_count": null,
   "metadata": {},
   "outputs": [],
   "source": [
    "import numpy as np\n",
    "from matplotlib import pyplot as plt\n",
    "import os"
   ]
  },
  {
   "cell_type": "markdown",
   "metadata": {},
   "source": [
    "### Load the data"
   ]
  },
  {
   "cell_type": "code",
   "execution_count": null,
   "metadata": {},
   "outputs": [],
   "source": [
    "! find . -name \".DS_Store\" -delete"
   ]
  },
  {
   "cell_type": "code",
   "execution_count": null,
   "metadata": {},
   "outputs": [],
   "source": [
    "n_X_test_0 = len(os.listdir(\"data_mp3/seconds_0.2_overlap_0.1/Test_0\"))\n",
    "n_X_test_1 = len(os.listdir(\"data_mp3/seconds_0.2_overlap_0.1/Test_1\"))\n",
    "\n",
    "print(f\"X_test_0 has {n_X_test_0} batches.\")\n",
    "print(f\"X_test_1 has {n_X_test_1} batches.\")"
   ]
  },
  {
   "cell_type": "code",
   "execution_count": 4,
   "metadata": {},
   "outputs": [],
   "source": [
    "# load X_test\n",
    "\n",
    "# set the amount of batches you wish to consider\n",
    "n = 10\n",
    "\n",
    "k = 1\n",
    "first = os.listdir(\"data_mp3/seconds_0.2_overlap_0.1/Test_0\")[0]\n",
    "X_test_0 = np.load(\"data_mp3/seconds_0.2_overlap_0.1/Test_0/\" + first)\n",
    "\n",
    "for item in os.listdir(\"data_mp3/seconds_0.2_overlap_0.1/Test_0\")[1:]:\n",
    "    arr = np.load(\"data_mp3/seconds_0.2_overlap_0.1/Test_0/\" + item)\n",
    "    X_test_0 = np.concatenate((X_test_0, arr), axis = 0)\n",
    "    k += 1\n",
    "    if k == n:\n",
    "        break\n",
    "\n",
    "k = 1\n",
    "item = os.listdir(\"data_mp3/seconds_0.2_overlap_0.1/Test_1\")[0]\n",
    "X_test_1 = np.load(\"data_mp3/seconds_0.2_overlap_0.1/Test_1/\" + item)\n",
    "\n",
    "for item in os.listdir(\"data_mp3/seconds_0.2_overlap_0.1/Test_1\")[1:]:\n",
    "    arr = np.load(\"data_mp3/seconds_0.2_overlap_0.1/Test_1/\" + item)\n",
    "    X_test_1 = np.concatenate((X_test_1, arr), axis = 0)\n",
    "    k += 1\n",
    "    if k == n:\n",
    "        break\n",
    "    \n",
    "X_test = np.concatenate((X_test_0, X_test_1), axis = 0)\n",
    "\n",
    "# load y_test\n",
    "\n",
    "y_test = np.loadtxt(\"labels/seconds_0.2_overlap_0.1/labels_Test.txt\")\n",
    "\n",
    "# split\n",
    "\n",
    "y_test_0 = y_test[y_test == 0]\n",
    "y_test_1 = y_test[y_test == 1]\n",
    "\n",
    "# truncate according to the number of slices above\n",
    "\n",
    "y_test_0 = y_test_0[0: X_test_0.shape[0]]\n",
    "y_test_1 = y_test_1[0: X_test_1.shape[0]]\n",
    "\n",
    "# concatenate\n",
    "\n",
    "y_test = np.concatenate((y_test_0, y_test_1), axis = 0)"
   ]
  },
  {
   "cell_type": "code",
   "execution_count": 5,
   "metadata": {},
   "outputs": [
    {
     "name": "stdout",
     "output_type": "stream",
     "text": [
      "(9001, 9600)\n",
      "(10000, 9600)\n",
      "(19001, 9600)\n",
      "(19001,)\n"
     ]
    }
   ],
   "source": [
    "print(X_test_0.shape)\n",
    "print(X_test_1.shape)\n",
    "print(X_test.shape)\n",
    "print(y_test.shape)"
   ]
  },
  {
   "cell_type": "code",
   "execution_count": 6,
   "metadata": {},
   "outputs": [
    {
     "name": "stdout",
     "output_type": "stream",
     "text": [
      "X_train_0 has 110 batches.\n",
      "X_train_1 has 112 batches.\n"
     ]
    }
   ],
   "source": [
    "n_X_train_0 = len(os.listdir(\"data_mp3/seconds_0.2_overlap_0.1/Train_0\"))\n",
    "n_X_train_1 = len(os.listdir(\"data_mp3/seconds_0.2_overlap_0.1/Train_1\"))\n",
    "\n",
    "print(f\"X_train_0 has {n_X_train_0} batches.\")\n",
    "print(f\"X_train_1 has {n_X_train_1} batches.\")"
   ]
  },
  {
   "cell_type": "code",
   "execution_count": 7,
   "metadata": {},
   "outputs": [
    {
     "name": "stderr",
     "output_type": "stream",
     "text": [
      " 35%|███▍      | 38/109 [00:33<01:03,  1.12it/s]\n",
      " 34%|███▍      | 38/111 [00:34<01:05,  1.11it/s]\n"
     ]
    }
   ],
   "source": [
    "# load X_train\n",
    "\n",
    "from tqdm import tqdm\n",
    "\n",
    "# set the amount of batches you wish to consider\n",
    "n = 40\n",
    "\n",
    "k = 1\n",
    "first = os.listdir(\"data_mp3/seconds_0.2_overlap_0.1/Train_0\")[0]\n",
    "X_train_0 = np.load(\"data_mp3/seconds_0.2_overlap_0.1/Train_0/\" + first, allow_pickle=True)\n",
    "\n",
    "for item in tqdm(os.listdir(\"data_mp3/seconds_0.2_overlap_0.1/Train_0\")[1:]):\n",
    "    arr = np.load(\"data_mp3/seconds_0.2_overlap_0.1/Train_0/\" + item, allow_pickle=True)\n",
    "    X_train_0 = np.concatenate((X_train_0, arr), axis = 0)\n",
    "    k += 1\n",
    "    if k == n:\n",
    "        break\n",
    "\n",
    "k = 1\n",
    "first = os.listdir(\"data_mp3/seconds_0.2_overlap_0.1/Train_1\")[0]\n",
    "X_train_1 = np.load(\"data_mp3/seconds_0.2_overlap_0.1/Train_1/\" + first, allow_pickle=True)\n",
    "\n",
    "\n",
    "for item in tqdm(os.listdir(\"data_mp3/seconds_0.2_overlap_0.1/Train_1\")[1:]):\n",
    "    arr = np.load(\"data_mp3/seconds_0.2_overlap_0.1/Train_1/\" + item, allow_pickle=True)\n",
    "    X_train_1 = np.concatenate((X_train_1, arr), axis = 0)\n",
    "    k += 1\n",
    "    if k == n:\n",
    "        break\n",
    "    \n",
    "X_train = np.concatenate((X_train_0, X_train_1), axis = 0)\n",
    "\n",
    "# load y_test\n",
    "\n",
    "y_train = np.loadtxt(\"labels/seconds_0.2_overlap_0.1/labels_Train.txt\")\n",
    "\n",
    "# split\n",
    "\n",
    "y_train_0 = y_train[y_train == 0]\n",
    "y_train_1 = y_train[y_train == 1]\n",
    "\n",
    "# truncate according to the number of slices selected above\n",
    "\n",
    "y_train_0 = y_train_0[0: X_train_0.shape[0]]\n",
    "y_train_1 = y_train_1[0: X_train_1.shape[0]]\n",
    "\n",
    "# concatenate\n",
    "\n",
    "y_train = np.concatenate((y_train_0, y_train_1), axis = 0)"
   ]
  },
  {
   "cell_type": "code",
   "execution_count": 8,
   "metadata": {},
   "outputs": [
    {
     "name": "stdout",
     "output_type": "stream",
     "text": [
      "(40000, 9600)\n",
      "(39340, 9600)\n",
      "(79340, 9600)\n",
      "(79340,)\n"
     ]
    }
   ],
   "source": [
    "print(X_train_0.shape)\n",
    "print(X_train_1.shape)\n",
    "print(X_train.shape)\n",
    "print(y_train.shape)"
   ]
  },
  {
   "cell_type": "code",
   "execution_count": 9,
   "metadata": {},
   "outputs": [
    {
     "name": "stdout",
     "output_type": "stream",
     "text": [
      "X_val_0 has 28 batches.\n",
      "X_val_1 has 27 batches.\n"
     ]
    }
   ],
   "source": [
    "n_X_val_0 = len(os.listdir(\"data_mp3/seconds_0.2_overlap_0.1/Validation_0\"))\n",
    "n_X_val_1 = len(os.listdir(\"data_mp3/seconds_0.2_overlap_0.1/Validation_1\"))\n",
    "\n",
    "print(f\"X_val_0 has {n_X_val_0} batches.\")\n",
    "print(f\"X_val_1 has {n_X_val_1} batches.\")"
   ]
  },
  {
   "cell_type": "code",
   "execution_count": 17,
   "metadata": {},
   "outputs": [],
   "source": [
    "# load X_val\n",
    "\n",
    "# set the amount of batches you wish to consider\n",
    "n = 7\n",
    "\n",
    "k = 1\n",
    "first = os.listdir(\"data_mp3/seconds_0.2_overlap_0.1/Validation_0\")[0]\n",
    "X_val_0 = np.load(\"data_mp3/seconds_0.2_overlap_0.1/Validation_0/\" + first, allow_pickle=True)\n",
    "\n",
    "for item in os.listdir(\"data_mp3/seconds_0.2_overlap_0.1/Validation_0\")[1:]:\n",
    "    arr = np.load(\"data_mp3/seconds_0.2_overlap_0.1/Validation_0/\" + item, allow_pickle=True)\n",
    "    X_val_0 = np.concatenate((X_val_0, arr), axis = 0)\n",
    "    k += 1\n",
    "    if k == n:\n",
    "        break\n",
    "\n",
    "k = 1\n",
    "first = os.listdir(\"data_mp3/seconds_0.2_overlap_0.1/Validation_1\")[0]\n",
    "X_val_1 = np.load(\"data_mp3/seconds_0.2_overlap_0.1/Validation_1/\" + first, allow_pickle=True)\n",
    "\n",
    "for item in os.listdir(\"data_mp3/seconds_0.2_overlap_0.1/Validation_1\")[1:]:\n",
    "    arr = np.load(\"data_mp3/seconds_0.2_overlap_0.1/Validation_1/\" + item, allow_pickle=True)\n",
    "    X_val_1 = np.concatenate((X_val_1, arr), axis = 0)\n",
    "    k += 1\n",
    "    if k == n:\n",
    "        break\n",
    "\n",
    "X_val = np.concatenate((X_val_0, X_val_1), axis = 0)\n",
    "\n",
    "# load y_test\n",
    "\n",
    "y_val = np.loadtxt(\"labels/seconds_0.2_overlap_0.1/labels_Validation.txt\")\n",
    "\n",
    "# split\n",
    "\n",
    "y_val_0 = y_val[y_val == 0]\n",
    "y_val_1 = y_val[y_val == 1]\n",
    "\n",
    "# truncate according to the number of slices selected above\n",
    "\n",
    "y_val_0 = y_val_0[0: X_val_0.shape[0]]\n",
    "y_val_1 = y_val_1[0: X_val_1.shape[0]]\n",
    "\n",
    "# concatenate\n",
    "\n",
    "y_val = np.concatenate((y_val_0, y_val_1), axis = 0)"
   ]
  },
  {
   "cell_type": "code",
   "execution_count": 18,
   "metadata": {},
   "outputs": [
    {
     "name": "stdout",
     "output_type": "stream",
     "text": [
      "(79340, 9600, 1)\n",
      "(14000, 9600, 1)\n",
      "(19001, 9600, 1)\n"
     ]
    }
   ],
   "source": [
    "X_train = X_train.reshape((-1, 9600, 1))\n",
    "X_val = X_val.reshape((-1, 9600, 1))\n",
    "X_test = X_test.reshape((-1, 9600, 1))\n",
    "\n",
    "print(X_train.shape)\n",
    "print(X_val.shape)\n",
    "print(X_test.shape)"
   ]
  },
  {
   "cell_type": "code",
   "execution_count": 19,
   "metadata": {},
   "outputs": [
    {
     "data": {
      "text/plain": [
       "(array([40000.,     0.,     0.,     0.,     0.,     0.,     0.,     0.,\n",
       "            0., 39340.]),\n",
       " array([0. , 0.1, 0.2, 0.3, 0.4, 0.5, 0.6, 0.7, 0.8, 0.9, 1. ]),\n",
       " <a list of 10 Patch objects>)"
      ]
     },
     "execution_count": 19,
     "metadata": {},
     "output_type": "execute_result"
    },
    {
     "data": {
      "image/png": "[encoded data removed]",
      "text/plain": [
       "<Figure size 432x288 with 1 Axes>"
      ]
     },
     "metadata": {
      "needs_background": "light"
     },
     "output_type": "display_data"
    }
   ],
   "source": [
    "from matplotlib import pyplot as plt\n",
    "\n",
    "plt.hist(y_train)"
   ]
  },
  {
   "cell_type": "code",
   "execution_count": null,
   "metadata": {},
   "outputs": [],
   "source": [
    "from tensorflow.keras import models, layers\n",
    "\n",
    "model = models.Sequential()\n",
    "model.add(layers.Conv1D(20, 100,\n",
    "                        strides=4,\n",
    "                        activation=\"relu\",\n",
    "                        input_shape=(9600, 1)))\n",
    "model.add(layers.Dropout(0.2))\n",
    "model.add(layers.Flatten())\n",
    "model.add(layers.Dense(1, activation=\"sigmoid\"))\n",
    "\n",
    "\n",
    "model.summary()\n",
    "\n",
    "model.compile(\n",
    "    optimizer=\"rmsprop\",\n",
    "    loss=\"binary_crossentropy\",\n",
    "    metrics=\"accuracy\"\n",
    ")"
   ]
  },
  {
   "cell_type": "code",
   "execution_count": null,
   "metadata": {},
   "outputs": [],
   "source": [
    "history = model.fit(\n",
    "    X_train, y_train,\n",
    "    epochs=15,\n",
    "    batch_size=512,\n",
    "    validation_data=(X_val, y_val),\n",
    "    shuffle=True)"
   ]
  },
  {
   "cell_type": "code",
   "execution_count": null,
   "metadata": {},
   "outputs": [],
   "source": [
    "plt.plot(history.history[\"loss\"], label=\"loss\")\n",
    "plt.plot(history.history[\"val_loss\"], label=\"val_loss\")\n",
    "plt.legend()\n",
    "plt.show()\n",
    "plt.close()\n",
    "\n",
    "plt.plot(history.history[\"accuracy\"], label=\"accuracy\")\n",
    "plt.plot(history.history[\"val_accuracy\"], label=\"val_accuracy\")\n",
    "plt.legend()\n",
    "plt.show()\n",
    "plt.close()"
   ]
  },
  {
   "cell_type": "code",
   "execution_count": 14,
   "metadata": {},
   "outputs": [],
   "source": [
    "model.save('first_model.h5')"
   ]
  },
  {
   "cell_type": "code",
   "execution_count": 15,
   "metadata": {},
   "outputs": [],
   "source": [
    "test_audio = np.loadtxt(\"data/for_prediction/Olaf_Schubert/seconds_0.2_overlap_0/Olaf_Schubert_1/data.txt\")\n",
    "test_audio_2 = np.loadtxt(\"data/for_prediction/Andrew_Ng/seconds_0.2_overlap_0/Andrew_Ng_3/data.txt\")"
   ]
  },
  {
   "cell_type": "code",
   "execution_count": 16,
   "metadata": {},
   "outputs": [],
   "source": [
    "test_audio_3 = np.loadtxt(\"data/for_prediction/Recording/seconds_0.2_overlap_0/Recording_1/data.txt\")"
   ]
  },
  {
   "cell_type": "code",
   "execution_count": 17,
   "metadata": {},
   "outputs": [],
   "source": [
    "test_audio_3 = test_audio_3.reshape((-1, 128, width, 1))\n",
    "test_audio_3 = test_audio_3.astype(\"float32\")/255.0"
   ]
  },
  {
   "cell_type": "code",
   "execution_count": 18,
   "metadata": {},
   "outputs": [
    {
     "data": {
      "text/plain": [
       "array([0.64322917])"
      ]
     },
     "execution_count": 18,
     "metadata": {},
     "output_type": "execute_result"
    }
   ],
   "source": [
    "predictions_3 = model.predict(\n",
    "    test_audio_3)\n",
    "mask_3 = (predictions_3 > 0.1)\n",
    "sum(mask_3)/len(mask_3)"
   ]
  },
  {
   "cell_type": "code",
   "execution_count": 19,
   "metadata": {},
   "outputs": [],
   "source": [
    "test_audio = test_audio.reshape((-1, 128, width, 1))\n",
    "test_audio_2 = test_audio_2.reshape((-1, 128, width, 1))"
   ]
  },
  {
   "cell_type": "code",
   "execution_count": 20,
   "metadata": {},
   "outputs": [],
   "source": [
    "test_audio = test_audio.astype(\"float32\")/255.0\n",
    "test_audio_2 = test_audio.astype(\"float32\")/255.0"
   ]
  },
  {
   "cell_type": "code",
   "execution_count": 21,
   "metadata": {},
   "outputs": [],
   "source": [
    "predictions = model.predict(\n",
    "    test_audio)\n",
    "predictions_2 = model.predict(\n",
    "    test_audio_2)"
   ]
  },
  {
   "cell_type": "code",
   "execution_count": 24,
   "metadata": {},
   "outputs": [],
   "source": [
    "mask_2 = (predictions_2 > 0.5)\n",
    "mask = (predictions > 0.5)"
   ]
  },
  {
   "cell_type": "code",
   "execution_count": 29,
   "metadata": {},
   "outputs": [
    {
     "name": "stdout",
     "output_type": "stream",
     "text": [
      "17.900000000000002\n",
      "44.5\n",
      "62.2\n",
      "65.0\n",
      "68.7\n",
      "129.0\n",
      "142.70000000000002\n",
      "146.8\n",
      "147.1\n"
     ]
    },
    {
     "ename": "KeyboardInterrupt",
     "evalue": "",
     "output_type": "error",
     "traceback": [
      "\u001b[0;31m---------------------------------------------------------------------------\u001b[0m",
      "\u001b[0;31mKeyboardInterrupt\u001b[0m                         Traceback (most recent call last)",
      "\u001b[0;32m<ipython-input-29-d28862ea3e98>\u001b[0m in \u001b[0;36m<module>\u001b[0;34m\u001b[0m\n\u001b[1;32m      4\u001b[0m     \u001b[0;32mif\u001b[0m \u001b[0mb\u001b[0m\u001b[0;34m:\u001b[0m\u001b[0;34m\u001b[0m\u001b[0;34m\u001b[0m\u001b[0m\n\u001b[1;32m      5\u001b[0m         \u001b[0mprint\u001b[0m\u001b[0;34m(\u001b[0m\u001b[0mi\u001b[0m\u001b[0;34m*\u001b[0m\u001b[0;36m0.1\u001b[0m\u001b[0;34m)\u001b[0m\u001b[0;34m\u001b[0m\u001b[0;34m\u001b[0m\u001b[0m\n\u001b[0;32m----> 6\u001b[0;31m     \u001b[0mtime\u001b[0m\u001b[0;34m.\u001b[0m\u001b[0msleep\u001b[0m\u001b[0;34m(\u001b[0m\u001b[0;36m0.1\u001b[0m\u001b[0;34m)\u001b[0m\u001b[0;34m\u001b[0m\u001b[0;34m\u001b[0m\u001b[0m\n\u001b[0m",
      "\u001b[0;31mKeyboardInterrupt\u001b[0m: "
     ]
    }
   ],
   "source": [
    "import time\n",
    "time.sleep(5)\n",
    "for i, b in enumerate(mask):\n",
    "    if b:\n",
    "        print(i*0.2)\n",
    "    time.sleep(0.2)"
   ]
  },
  {
   "cell_type": "code",
   "execution_count": null,
   "metadata": {},
   "outputs": [],
   "source": [
    "predictions"
   ]
  },
  {
   "cell_type": "code",
   "execution_count": null,
   "metadata": {},
   "outputs": [],
   "source": [
    "mask = (predictions > 0.05)"
   ]
  },
  {
   "cell_type": "code",
   "execution_count": null,
   "metadata": {},
   "outputs": [],
   "source": [
    "plt.plot(mask)[mask]"
   ]
  },
  {
   "cell_type": "code",
   "execution_count": 30,
   "metadata": {},
   "outputs": [
    {
     "ename": "SyntaxError",
     "evalue": "invalid syntax (<ipython-input-30-663f0626662c>, line 1)",
     "output_type": "error",
     "traceback": [
      "\u001b[0;36m  File \u001b[0;32m\"<ipython-input-30-663f0626662c>\"\u001b[0;36m, line \u001b[0;32m1\u001b[0m\n\u001b[0;31m    np.arange(5181)[mask.reshape(-1)]/The 5\u001b[0m\n\u001b[0m                                          ^\u001b[0m\n\u001b[0;31mSyntaxError\u001b[0m\u001b[0;31m:\u001b[0m invalid syntax\n"
     ]
    }
   ],
   "source": [
    "np.arange(5181)[mask.reshape(-1)]/The 5"
   ]
  },
  {
   "cell_type": "code",
   "execution_count": null,
   "metadata": {},
   "outputs": [],
   "source": [
    "mask.shape"
   ]
  },
  {
   "cell_type": "code",
   "execution_count": null,
   "metadata": {},
   "outputs": [],
   "source": [
    "preds = model.predict(X_test)"
   ]
  },
  {
   "cell_type": "code",
   "execution_count": null,
   "metadata": {},
   "outputs": [],
   "source": [
    "sum((preds > 0.1) & (preds < 0.9))"
   ]
  },
  {
   "cell_type": "code",
   "execution_count": null,
   "metadata": {},
   "outputs": [],
   "source": [
    "test_audio[0].flatten()"
   ]
  },
  {
   "cell_type": "code",
   "execution_count": null,
   "metadata": {},
   "outputs": [],
   "source": [
    "X_test[0]"
   ]
  },
  {
   "cell_type": "code",
   "execution_count": 26,
   "metadata": {},
   "outputs": [
    {
     "data": {
      "text/plain": [
       "(5181, 128, 9, 1)"
      ]
     },
     "execution_count": 26,
     "metadata": {},
     "output_type": "execute_result"
    }
   ],
   "source": [
    "test_audio.shape"
   ]
  },
  {
   "cell_type": "code",
   "execution_count": 27,
   "metadata": {},
   "outputs": [
    {
     "data": {
      "text/plain": [
       "(222024, 128, 9, 1)"
      ]
     },
     "execution_count": 27,
     "metadata": {},
     "output_type": "execute_result"
    }
   ],
   "source": [
    "X_train.shape"
   ]
  },
  {
   "cell_type": "code",
   "execution_count": null,
   "metadata": {},
   "outputs": [],
   "source": [
    "# load X_train\n",
    "\n",
    "from tqdm import tqdm\n",
    "\n",
    "# set the amount of batches you wish to consider\n",
    "n = 40\n",
    "\n",
    "k = 1\n",
    "first = os.listdir(\"data_mp3/seconds_0.2_overlap_0.1/Train_0\")[0]\n",
    "X_train_0 = np.load(\"data_mp3/seconds_0.2_overlap_0.1/Train_0/\" + first, allow_pickle=True)\n",
    "df = pd.DataFrame(X_train_0.tolist()).fillna(0)\n",
    "X_train_0 = df.to_numpy().astype(\"int\")\n",
    "np.save(\"data_mp3/seconds_0.2_overlap_0.1/Train_0/\" + first, X_train_0)\n",
    "\n",
    "for item in tqdm(os.listdir(\"data_mp3/seconds_0.2_overlap_0.1/Train_0\")[1:]):\n",
    "    arr = np.load(\"data_mp3/seconds_0.2_overlap_0.1/Train_0/\" + item, allow_pickle=True)\n",
    "    df = pd.DataFrame(arr.tolist()).fillna(0)\n",
    "    arr = df.to_numpy().astype(\"int\")\n",
    "    np.save(\"data_mp3/seconds_0.2_overlap_0.1/Train_0/\" + item, arr)\n",
    "    X_train_0 = np.concatenate((X_train_0, arr), axis = 0)\n",
    "    k += 1\n",
    "    if k == n:\n",
    "        break\n",
    "\n",
    "k = 1\n",
    "first = os.listdir(\"data_mp3/seconds_0.2_overlap_0.1/Train_1\")[0]\n",
    "X_train_1 = np.load(\"data_mp3/seconds_0.2_overlap_0.1/Train_1/\" + first, allow_pickle=True)\n",
    "df = pd.DataFrame(X_train_1.tolist()).fillna(0)\n",
    "X_train_1 = df.to_numpy().astype(\"int\")\n",
    "np.save(\"data_mp3/seconds_0.2_overlap_0.1/Train_1/\" + first, X_train_1)\n",
    "\n",
    "for item in tqdm(os.listdir(\"data_mp3/seconds_0.2_overlap_0.1/Train_1\")[1:]):\n",
    "    arr = np.load(\"data_mp3/seconds_0.2_overlap_0.1/Train_1/\" + item, allow_pickle=True)\n",
    "    df = pd.DataFrame(arr.tolist()).fillna(0)\n",
    "    arr = df.to_numpy().astype(\"int\")\n",
    "    np.save(\"data_mp3/seconds_0.2_overlap_0.1/Train_1/\" + item, arr)\n",
    "    X_train_1 = np.concatenate((X_train_1, arr), axis = 0)\n",
    "    k += 1\n",
    "    if k == n:\n",
    "        break\n",
    "    \n",
    "X_train = np.concatenate((X_train_0, X_train_1), axis = 0)\n",
    "\n",
    "# load y_test\n",
    "\n",
    "y_train = np.loadtxt(\"labels/seconds_0.2_overlap_0.1/labels_Train.txt\")\n",
    "\n",
    "# split\n",
    "\n",
    "y_train_0 = y_train[y_train == 0]\n",
    "y_train_1 = y_train[y_train == 1]\n",
    "\n",
    "# truncate according to the number of slices selected above\n",
    "\n",
    "y_train_0 = y_train_0[0: X_train_0.shape[0]]\n",
    "y_train_1 = y_train_1[0: X_train_1.shape[0]]\n",
    "\n",
    "# concatenate\n",
    "\n",
    "y_train = np.concatenate((y_train_0, y_train_1), axis = 0)"
   ]
  }
 ],
 "metadata": {
  "kernelspec": {
   "display_name": "Python 3",
   "language": "python",
   "name": "python3"
  },
  "language_info": {
   "codemirror_mode": {
    "name": "ipython",
    "version": 3
   },
   "file_extension": ".py",
   "mimetype": "text/x-python",
   "name": "python",
   "nbconvert_exporter": "python",
   "pygments_lexer": "ipython3",
   "version": "3.8.3"
  }
 },
 "nbformat": 4,
 "nbformat_minor": 4
}
