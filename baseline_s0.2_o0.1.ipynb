{
 "cells": [
  {
   "cell_type": "code",
   "execution_count": 1,
   "metadata": {},
   "outputs": [],
   "source": [
    "import numpy as np\n",
    "from matplotlib import pyplot as plt"
   ]
  },
  {
   "cell_type": "code",
   "execution_count": 2,
   "metadata": {},
   "outputs": [],
   "source": [
    "# load the data\n",
    "\n",
    "X_train = np.loadtxt(\"data/seconds_0.2_overlap_0.1/data_Train.txt\")\n",
    "y_train = np.loadtxt(\"labels/seconds_0.2_overlap_0.1/labels_Train.txt\")\n",
    "\n",
    "X_val = np.loadtxt(\"data/seconds_0.2_overlap_0.1/data_Validation.txt\")\n",
    "y_val = np.loadtxt(\"labels/seconds_0.2_overlap_0.1/labels_Validation.txt\")\n",
    "\n",
    "X_test = np.loadtxt(\"data/seconds_0.2_overlap_0.1/data_Test.txt\")\n",
    "y_test = np.loadtxt(\"labels/seconds_0.2_overlap_0.1/labels_Test.txt\")"
   ]
  },
  {
   "cell_type": "code",
   "execution_count": 3,
   "metadata": {},
   "outputs": [],
   "source": [
    "\n",
    "X_train = X_train.astype(\"float32\")/255.0\n",
    "X_test = X_test.astype(\"float32\")/255.0\n",
    "X_val = X_val.astype(\"float32\")/255.0"
   ]
  },
  {
   "cell_type": "code",
   "execution_count": 4,
   "metadata": {},
   "outputs": [
    {
     "name": "stdout",
     "output_type": "stream",
     "text": [
      "(28419072, 9)\n",
      "(7087488, 9)\n",
      "(7125504, 9)\n"
     ]
    }
   ],
   "source": [
    "print(X_train.shape)\n",
    "print(X_val.shape)\n",
    "print(X_test.shape)\n",
    "\n",
    "width = X_train.shape[1]"
   ]
  },
  {
   "cell_type": "code",
   "execution_count": 5,
   "metadata": {},
   "outputs": [
    {
     "name": "stdout",
     "output_type": "stream",
     "text": [
      "(222024, 128, 9)\n",
      "(55371, 128, 9)\n",
      "(55668, 128, 9)\n"
     ]
    }
   ],
   "source": [
    "X_train = X_train.reshape((-1, 128, width))\n",
    "X_val = X_val.reshape((-1, 128, width))\n",
    "X_test = X_test.reshape((-1, 128, width))\n",
    "\n",
    "print(X_train.shape)\n",
    "print(X_val.shape)\n",
    "print(X_test.shape)"
   ]
  },
  {
   "cell_type": "code",
   "execution_count": 6,
   "metadata": {},
   "outputs": [
    {
     "data": {
      "image/png": "[encoded data removed]",
      "text/plain": [
       "<Figure size 432x288 with 1 Axes>"
      ]
     },
     "metadata": {
      "needs_background": "light"
     },
     "output_type": "display_data"
    }
   ],
   "source": [
    "index = 16000\n",
    "\n",
    "plt.imshow(X_train[index], cmap =\"gray\")\n",
    "plt.title(f\"Label is {y_train[index]}\")\n",
    "plt.show()"
   ]
  },
  {
   "cell_type": "code",
   "execution_count": 7,
   "metadata": {},
   "outputs": [],
   "source": [
    "# resizing images\n",
    "\n",
    "#data_padded = [data[i] for i in range(0, data.shape[0])]\n",
    "\n",
    "#n_samples = data.shape[0]\n",
    "#height = data.shape[1]\n",
    "#width = data.shape[2]\n",
    "\n",
    "\n",
    "#for i in range(0, n_samples):\n",
    "#    for j in range(width, height):\n",
    "#        data_padded[i] = np.append(data_padded[i], [[0] for k in range(0, height)], 1)\n",
    "    \n",
    "#data_padded = np.array(data_padded)\n",
    "#data_padded.shape\n",
    "#data = data_padded"
   ]
  },
  {
   "cell_type": "code",
   "execution_count": 8,
   "metadata": {},
   "outputs": [],
   "source": [
    "X_train = X_train.reshape((-1, 128, width, 1))\n",
    "X_val = X_val.reshape((-1, 128, width, 1))\n",
    "X_test = X_test.reshape((-1, 128, width, 1))"
   ]
  },
  {
   "cell_type": "code",
   "execution_count": 9,
   "metadata": {},
   "outputs": [],
   "source": [
    "# train test split\n",
    "#from sklearn.model_selection import train_test_split\n",
    "\n",
    "#X_train, X_test, y_train, y_test = train_test_split(data, labels, test_size=0.2, shuffle=True)"
   ]
  },
  {
   "cell_type": "code",
   "execution_count": 10,
   "metadata": {},
   "outputs": [
    {
     "data": {
      "text/plain": [
       "(array([110340.,      0.,      0.,      0.,      0.,      0.,      0.,\n",
       "             0.,      0., 111684.]),\n",
       " array([0. , 0.1, 0.2, 0.3, 0.4, 0.5, 0.6, 0.7, 0.8, 0.9, 1. ]),\n",
       " <a list of 10 Patch objects>)"
      ]
     },
     "execution_count": 10,
     "metadata": {},
     "output_type": "execute_result"
    },
    {
     "data": {
      "image/png": "[encoded data removed]",
      "text/plain": [
       "<Figure size 432x288 with 1 Axes>"
      ]
     },
     "metadata": {
      "needs_background": "light"
     },
     "output_type": "display_data"
    }
   ],
   "source": [
    "from matplotlib import pyplot as plt\n",
    "\n",
    "plt.hist(y_train)"
   ]
  },
  {
   "cell_type": "code",
   "execution_count": 11,
   "metadata": {},
   "outputs": [
    {
     "name": "stdout",
     "output_type": "stream",
     "text": [
      "Model: \"sequential\"\n",
      "_________________________________________________________________\n",
      "Layer (type)                 Output Shape              Param #   \n",
      "=================================================================\n",
      "conv2d (Conv2D)              (None, 126, 7, 12)        120       \n",
      "_________________________________________________________________\n",
      "dropout (Dropout)            (None, 126, 7, 12)        0         \n",
      "_________________________________________________________________\n",
      "flatten (Flatten)            (None, 10584)             0         \n",
      "_________________________________________________________________\n",
      "dense (Dense)                (None, 1)                 10585     \n",
      "=================================================================\n",
      "Total params: 10,705\n",
      "Trainable params: 10,705\n",
      "Non-trainable params: 0\n",
      "_________________________________________________________________\n"
     ]
    }
   ],
   "source": [
    "from tensorflow.keras import models, layers\n",
    "\n",
    "model = models.Sequential()\n",
    "model.add(layers.Conv2D(12, (3, 3),\n",
    "                        strides=1,\n",
    "                        activation=\"relu\",\n",
    "                        input_shape=(128, width, 1)))\n",
    "model.add(layers.Dropout(0.2))\n",
    "model.add(layers.Flatten())\n",
    "model.add(layers.Dense(1, activation=\"sigmoid\"))\n",
    "\n",
    "\n",
    "model.summary()\n",
    "\n",
    "model.compile(\n",
    "    optimizer=\"rmsprop\",\n",
    "    loss=\"binary_crossentropy\",\n",
    "    metrics=\"accuracy\"\n",
    ")"
   ]
  },
  {
   "cell_type": "code",
   "execution_count": 12,
   "metadata": {},
   "outputs": [
    {
     "name": "stdout",
     "output_type": "stream",
     "text": [
      "Epoch 1/15\n",
      "434/434 [==============================] - 19s 43ms/step - loss: 0.3096 - accuracy: 0.8831 - val_loss: 0.2294 - val_accuracy: 0.9174\n",
      "Epoch 2/15\n",
      "434/434 [==============================] - 18s 43ms/step - loss: 0.1750 - accuracy: 0.9388 - val_loss: 0.1728 - val_accuracy: 0.9365\n",
      "Epoch 3/15\n",
      "434/434 [==============================] - 18s 43ms/step - loss: 0.1405 - accuracy: 0.9510 - val_loss: 0.1340 - val_accuracy: 0.9420\n",
      "Epoch 4/15\n",
      "434/434 [==============================] - 19s 43ms/step - loss: 0.1174 - accuracy: 0.9593 - val_loss: 0.1149 - val_accuracy: 0.9504\n",
      "Epoch 5/15\n",
      "434/434 [==============================] - 20s 46ms/step - loss: 0.0992 - accuracy: 0.9656 - val_loss: 0.1250 - val_accuracy: 0.9499\n",
      "Epoch 6/15\n",
      "434/434 [==============================] - 19s 44ms/step - loss: 0.0863 - accuracy: 0.9706 - val_loss: 0.1016 - val_accuracy: 0.9559\n",
      "Epoch 7/15\n",
      "434/434 [==============================] - 19s 43ms/step - loss: 0.0773 - accuracy: 0.9736 - val_loss: 0.0968 - val_accuracy: 0.9580\n",
      "Epoch 8/15\n",
      "434/434 [==============================] - 18s 42ms/step - loss: 0.0721 - accuracy: 0.9757 - val_loss: 0.0937 - val_accuracy: 0.9642\n",
      "Epoch 9/15\n",
      "434/434 [==============================] - 18s 42ms/step - loss: 0.0676 - accuracy: 0.9767 - val_loss: 0.0935 - val_accuracy: 0.9622\n",
      "Epoch 10/15\n",
      "434/434 [==============================] - 18s 42ms/step - loss: 0.0644 - accuracy: 0.9783 - val_loss: 0.0885 - val_accuracy: 0.9670\n",
      "Epoch 11/15\n",
      "434/434 [==============================] - 19s 43ms/step - loss: 0.0620 - accuracy: 0.9788 - val_loss: 0.0812 - val_accuracy: 0.9732\n",
      "Epoch 12/15\n",
      "434/434 [==============================] - 19s 45ms/step - loss: 0.0599 - accuracy: 0.9796 - val_loss: 0.0826 - val_accuracy: 0.9720\n",
      "Epoch 13/15\n",
      "434/434 [==============================] - 19s 44ms/step - loss: 0.0585 - accuracy: 0.9799 - val_loss: 0.0830 - val_accuracy: 0.9737\n",
      "Epoch 14/15\n",
      "434/434 [==============================] - 19s 44ms/step - loss: 0.0569 - accuracy: 0.9807 - val_loss: 0.0832 - val_accuracy: 0.9745\n",
      "Epoch 15/15\n",
      "434/434 [==============================] - 20s 46ms/step - loss: 0.0558 - accuracy: 0.9812 - val_loss: 0.0853 - val_accuracy: 0.9713\n"
     ]
    }
   ],
   "source": [
    "history = model.fit(\n",
    "    X_train, y_train,\n",
    "    epochs=15,\n",
    "    batch_size=512,\n",
    "    validation_data=(X_val, y_val),\n",
    ")"
   ]
  },
  {
   "cell_type": "code",
   "execution_count": 13,
   "metadata": {},
   "outputs": [
    {
     "data": {
      "image/png": "[encoded data removed]",
      "text/plain": [
       "<Figure size 432x288 with 1 Axes>"
      ]
     },
     "metadata": {
      "needs_background": "light"
     },
     "output_type": "display_data"
    },
    {
     "data": {
      "image/png": "[encoded data removed]",
      "text/plain": [
       "<Figure size 432x288 with 1 Axes>"
      ]
     },
     "metadata": {
      "needs_background": "light"
     },
     "output_type": "display_data"
    }
   ],
   "source": [
    "plt.plot(history.history[\"loss\"], label=\"loss\")\n",
    "plt.plot(history.history[\"val_loss\"], label=\"val_loss\")\n",
    "plt.legend()\n",
    "plt.show()\n",
    "plt.close()\n",
    "\n",
    "plt.plot(history.history[\"accuracy\"], label=\"accuracy\")\n",
    "plt.plot(history.history[\"val_accuracy\"], label=\"val_accuracy\")\n",
    "plt.legend()\n",
    "plt.show()\n",
    "plt.close()"
   ]
  },
  {
   "cell_type": "code",
   "execution_count": 14,
   "metadata": {},
   "outputs": [],
   "source": [
    "model.save('first_model.h5')"
   ]
  },
  {
   "cell_type": "code",
   "execution_count": 15,
   "metadata": {},
   "outputs": [],
   "source": [
    "test_audio = np.loadtxt(\"data/for_prediction/Olaf_Schubert/seconds_0.2_overlap_0/Olaf_Schubert_1/data.txt\")\n",
    "test_audio_2 = np.loadtxt(\"data/for_prediction/Andrew_Ng/seconds_0.2_overlap_0/Andrew_Ng_3/data.txt\")"
   ]
  },
  {
   "cell_type": "code",
   "execution_count": 16,
   "metadata": {},
   "outputs": [],
   "source": [
    "test_audio_3 = np.loadtxt(\"data/for_prediction/Recording/seconds_0.2_overlap_0/Recording_1/data.txt\")"
   ]
  },
  {
   "cell_type": "code",
   "execution_count": 17,
   "metadata": {},
   "outputs": [],
   "source": [
    "test_audio_3 = test_audio_3.reshape((-1, 128, width, 1))\n",
    "test_audio_3 = test_audio_3.astype(\"float32\")/255.0"
   ]
  },
  {
   "cell_type": "code",
   "execution_count": 18,
   "metadata": {},
   "outputs": [
    {
     "data": {
      "text/plain": [
       "array([0.64322917])"
      ]
     },
     "execution_count": 18,
     "metadata": {},
     "output_type": "execute_result"
    }
   ],
   "source": [
    "predictions_3 = model.predict(\n",
    "    test_audio_3)\n",
    "mask_3 = (predictions_3 > 0.1)\n",
    "sum(mask_3)/len(mask_3)"
   ]
  },
  {
   "cell_type": "code",
   "execution_count": 19,
   "metadata": {},
   "outputs": [],
   "source": [
    "test_audio = test_audio.reshape((-1, 128, width, 1))\n",
    "test_audio_2 = test_audio_2.reshape((-1, 128, width, 1))"
   ]
  },
  {
   "cell_type": "code",
   "execution_count": 20,
   "metadata": {},
   "outputs": [],
   "source": [
    "test_audio = test_audio.astype(\"float32\")/255.0\n",
    "test_audio_2 = test_audio.astype(\"float32\")/255.0"
   ]
  },
  {
   "cell_type": "code",
   "execution_count": 21,
   "metadata": {},
   "outputs": [],
   "source": [
    "predictions = model.predict(\n",
    "    test_audio)\n",
    "predictions_2 = model.predict(\n",
    "    test_audio_2)"
   ]
  },
  {
   "cell_type": "code",
   "execution_count": 24,
   "metadata": {},
   "outputs": [],
   "source": [
    "mask_2 = (predictions_2 > 0.5)\n",
    "mask = (predictions > 0.5)"
   ]
  },
  {
   "cell_type": "code",
   "execution_count": 29,
   "metadata": {},
   "outputs": [
    {
     "name": "stdout",
     "output_type": "stream",
     "text": [
      "17.900000000000002\n",
      "44.5\n",
      "62.2\n",
      "65.0\n",
      "68.7\n",
      "129.0\n",
      "142.70000000000002\n",
      "146.8\n",
      "147.1\n"
     ]
    },
    {
     "ename": "KeyboardInterrupt",
     "evalue": "",
     "output_type": "error",
     "traceback": [
      "\u001b[0;31m---------------------------------------------------------------------------\u001b[0m",
      "\u001b[0;31mKeyboardInterrupt\u001b[0m                         Traceback (most recent call last)",
      "\u001b[0;32m<ipython-input-29-d28862ea3e98>\u001b[0m in \u001b[0;36m<module>\u001b[0;34m\u001b[0m\n\u001b[1;32m      4\u001b[0m     \u001b[0;32mif\u001b[0m \u001b[0mb\u001b[0m\u001b[0;34m:\u001b[0m\u001b[0;34m\u001b[0m\u001b[0;34m\u001b[0m\u001b[0m\n\u001b[1;32m      5\u001b[0m         \u001b[0mprint\u001b[0m\u001b[0;34m(\u001b[0m\u001b[0mi\u001b[0m\u001b[0;34m*\u001b[0m\u001b[0;36m0.1\u001b[0m\u001b[0;34m)\u001b[0m\u001b[0;34m\u001b[0m\u001b[0;34m\u001b[0m\u001b[0m\n\u001b[0;32m----> 6\u001b[0;31m     \u001b[0mtime\u001b[0m\u001b[0;34m.\u001b[0m\u001b[0msleep\u001b[0m\u001b[0;34m(\u001b[0m\u001b[0;36m0.1\u001b[0m\u001b[0;34m)\u001b[0m\u001b[0;34m\u001b[0m\u001b[0;34m\u001b[0m\u001b[0m\n\u001b[0m",
      "\u001b[0;31mKeyboardInterrupt\u001b[0m: "
     ]
    }
   ],
   "source": [
    "import time\n",
    "time.sleep(5)\n",
    "for i, b in enumerate(mask):\n",
    "    if b:\n",
    "        print(i*0.2)\n",
    "    time.sleep(0.2)"
   ]
  },
  {
   "cell_type": "code",
   "execution_count": null,
   "metadata": {},
   "outputs": [],
   "source": [
    "predictions"
   ]
  },
  {
   "cell_type": "code",
   "execution_count": null,
   "metadata": {},
   "outputs": [],
   "source": [
    "mask = (predictions > 0.05)"
   ]
  },
  {
   "cell_type": "code",
   "execution_count": null,
   "metadata": {},
   "outputs": [],
   "source": [
    "plt.plot(mask)[mask]"
   ]
  },
  {
   "cell_type": "code",
   "execution_count": 30,
   "metadata": {},
   "outputs": [
    {
     "ename": "SyntaxError",
     "evalue": "invalid syntax (<ipython-input-30-663f0626662c>, line 1)",
     "output_type": "error",
     "traceback": [
      "\u001b[0;36m  File \u001b[0;32m\"<ipython-input-30-663f0626662c>\"\u001b[0;36m, line \u001b[0;32m1\u001b[0m\n\u001b[0;31m    np.arange(5181)[mask.reshape(-1)]/The 5\u001b[0m\n\u001b[0m                                          ^\u001b[0m\n\u001b[0;31mSyntaxError\u001b[0m\u001b[0;31m:\u001b[0m invalid syntax\n"
     ]
    }
   ],
   "source": [
    "np.arange(5181)[mask.reshape(-1)]/The 5"
   ]
  },
  {
   "cell_type": "code",
   "execution_count": null,
   "metadata": {},
   "outputs": [],
   "source": [
    "mask.shape"
   ]
  },
  {
   "cell_type": "code",
   "execution_count": null,
   "metadata": {},
   "outputs": [],
   "source": [
    "preds = model.predict(X_test)"
   ]
  },
  {
   "cell_type": "code",
   "execution_count": null,
   "metadata": {},
   "outputs": [],
   "source": [
    "sum((preds > 0.1) & (preds < 0.9))"
   ]
  },
  {
   "cell_type": "code",
   "execution_count": null,
   "metadata": {},
   "outputs": [],
   "source": [
    "test_audio[0].flatten()"
   ]
  },
  {
   "cell_type": "code",
   "execution_count": null,
   "metadata": {},
   "outputs": [],
   "source": [
    "X_test[0]"
   ]
  },
  {
   "cell_type": "code",
   "execution_count": 26,
   "metadata": {},
   "outputs": [
    {
     "data": {
      "text/plain": [
       "(5181, 128, 9, 1)"
      ]
     },
     "execution_count": 26,
     "metadata": {},
     "output_type": "execute_result"
    }
   ],
   "source": [
    "test_audio.shape"
   ]
  },
  {
   "cell_type": "code",
   "execution_count": 27,
   "metadata": {},
   "outputs": [
    {
     "data": {
      "text/plain": [
       "(222024, 128, 9, 1)"
      ]
     },
     "execution_count": 27,
     "metadata": {},
     "output_type": "execute_result"
    }
   ],
   "source": [
    "X_train.shape"
   ]
  },
  {
   "cell_type": "code",
   "execution_count": null,
   "metadata": {},
   "outputs": [],
   "source": []
  }
 ],
 "metadata": {
  "kernelspec": {
   "display_name": "Python 3",
   "language": "python",
   "name": "python3"
  },
  "language_info": {
   "codemirror_mode": {
    "name": "ipython",
    "version": 3
   },
   "file_extension": ".py",
   "mimetype": "text/x-python",
   "name": "python",
   "nbconvert_exporter": "python",
   "pygments_lexer": "ipython3",
   "version": "3.8.3"
  }
 },
 "nbformat": 4,
 "nbformat_minor": 4
}
